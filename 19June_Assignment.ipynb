{
 "cells": [
  {
   "cell_type": "code",
   "execution_count": null,
   "id": "006aacb7",
   "metadata": {},
   "outputs": [],
   "source": [
    "#: Store a message in a variable, and then print that message. "
   ]
  },
  {
   "cell_type": "code",
   "execution_count": 1,
   "id": "394a8d16",
   "metadata": {},
   "outputs": [
    {
     "name": "stdout",
     "output_type": "stream",
     "text": [
      "To Store a Message and Print\n"
     ]
    }
   ],
   "source": [
    "a='To Store a Message and Print'\n",
    "print(a)"
   ]
  },
  {
   "cell_type": "code",
   "execution_count": null,
   "id": "636d099a",
   "metadata": {},
   "outputs": [],
   "source": [
    "#. Print a message. Then change the value of your variable to a new message and print the new message. "
   ]
  },
  {
   "cell_type": "code",
   "execution_count": 6,
   "id": "a8d1993a",
   "metadata": {},
   "outputs": [
    {
     "name": "stdout",
     "output_type": "stream",
     "text": [
      "Moonraker is a good bond movie\n",
      "Now trying to change the value\n",
      "You only live twice is a good bond movie\n"
     ]
    }
   ],
   "source": [
    "a = 'Moonraker is a good bond movie'\n",
    "print(a)\n",
    "print('Now trying to change the value')\n",
    "b=a.replace('Moonraker', 'You only live twice')\n",
    "print (b)"
   ]
  },
  {
   "cell_type": "code",
   "execution_count": 9,
   "id": "85d09a83",
   "metadata": {},
   "outputs": [
    {
     "name": "stdout",
     "output_type": "stream",
     "text": [
      "Hello Jim would you like to learn python?\n"
     ]
    }
   ],
   "source": [
    "## store a person's name in a var\n",
    "emp='Jim'\n",
    "print(\"Hello {} would you like to learn python?\".format(emp))"
   ]
  },
  {
   "cell_type": "code",
   "execution_count": null,
   "id": "eb833ed0",
   "metadata": {},
   "outputs": [],
   "source": [
    "# 4.Find a quote from a famous person you admire +  Repeat Exercise 4, "
   ]
  },
  {
   "cell_type": "code",
   "execution_count": 10,
   "id": "200f0d6e",
   "metadata": {},
   "outputs": [
    {
     "name": "stdout",
     "output_type": "stream",
     "text": [
      "Shakespear said: \"No legacy is so rich as honesty.\"\n"
     ]
    }
   ],
   "source": [
    "s=\"Shakespear said: \"\n",
    "q= '\"No legacy is so rich as honesty.\"'\n",
    "print(s+q)"
   ]
  },
  {
   "cell_type": "code",
   "execution_count": 12,
   "id": "45e2e385",
   "metadata": {},
   "outputs": [
    {
     "name": "stdout",
     "output_type": "stream",
     "text": [
      "Shakespear: \" No legacy is so rich as honesty\"\n"
     ]
    }
   ],
   "source": [
    "famousperson='Shakespear: '\n",
    "message='\" No legacy is so rich as honesty\"'\n",
    "print(famousperson + message)"
   ]
  },
  {
   "cell_type": "code",
   "execution_count": 13,
   "id": "d46607ba",
   "metadata": {},
   "outputs": [
    {
     "name": "stdout",
     "output_type": "stream",
     "text": [
      "Using these operators (+, -, *, and /) so that, each result in the number 8.\n",
      "8\n",
      "8\n",
      "8\n",
      "8.0\n"
     ]
    }
   ],
   "source": [
    "## use mathematical operators\n",
    "print(\"Using these operators (+, -, *, and /) so that, each result in the number 8.\")\n",
    "print(4+4)\n",
    "print(10-2)\n",
    "print(1*8)\n",
    "print(96/12)"
   ]
  },
  {
   "cell_type": "code",
   "execution_count": 14,
   "id": "8abfc23a",
   "metadata": {},
   "outputs": [
    {
     "name": "stdout",
     "output_type": "stream",
     "text": [
      "Store fav variable and use it to reveals the favourite number. Print that message\n",
      "This is my favourite number: 1007\n"
     ]
    }
   ],
   "source": [
    "## Favourite Number\n",
    "print(\"Store fav variable and use it to reveals the favourite number. Print that message\")\n",
    "mynum=1007\n",
    "print(\"This is my favourite number: \" + str(mynum))"
   ]
  },
  {
   "cell_type": "code",
   "execution_count": null,
   "id": "8569c448",
   "metadata": {},
   "outputs": [],
   "source": [
    "#Choose two of the programs you’ve written and add at least one comment to each\n",
    "# this is Gross Salary Calculation\n"
   ]
  },
  {
   "cell_type": "code",
   "execution_count": 15,
   "id": "b7d048ab",
   "metadata": {},
   "outputs": [
    {
     "name": "stdout",
     "output_type": "stream",
     "text": [
      "Salary Calculation\n",
      "Gross Salary of Rishi  is, (Basic,da,hra+trav_all) 5000, 1250, 2000,2500   10750\n",
      "Gross Salary is: Rs. 10750\n",
      "Net Salary is: Rs. 10000\n"
     ]
    }
   ],
   "source": [
    "print(\"Salary Calculation\")\n",
    "name='Rishi '\n",
    "basic=5000\n",
    "da=1250\n",
    "hra=2000\n",
    "trav_all=2500\n",
    "pf = 500\n",
    "tax=250\n",
    "gr_sal=(basic + da + hra + trav_all)\n",
    "print(\"Gross Salary of {} is, (Basic,da,hra+trav_all) {}, {}, {},{}  \" .format(name,basic,da,hra,trav_all), gr_sal )\n",
    "print(\"Gross Salary is: Rs.\", gr_sal )\n",
    "net_sal= gr_sal - (pf+tax)\n",
    "print(\"Net Salary is: Rs.\", net_sal)"
   ]
  },
  {
   "cell_type": "code",
   "execution_count": null,
   "id": "9af657f4",
   "metadata": {},
   "outputs": [],
   "source": [
    "#9. Store the names of a few of your friends. 2nd part of this.. continued"
   ]
  },
  {
   "cell_type": "code",
   "execution_count": 16,
   "id": "4f230382",
   "metadata": {},
   "outputs": [
    {
     "name": "stdout",
     "output_type": "stream",
     "text": [
      "Anu\n",
      "Maria\n",
      "Jay\n",
      "Susmita\n",
      "Anvita\n"
     ]
    }
   ],
   "source": [
    "friends=['Anu','Maria','Jay','Susmita','Anvita']\n",
    "for i in friends:\n",
    "    print (i)\n"
   ]
  },
  {
   "cell_type": "code",
   "execution_count": 18,
   "id": "56807ffd",
   "metadata": {},
   "outputs": [
    {
     "name": "stdout",
     "output_type": "stream",
     "text": [
      "Anvita\n",
      "Anu\n",
      "Maria\n",
      "Susmita\n",
      "Jay\n"
     ]
    }
   ],
   "source": [
    "friends=['Anu','Maria','Jay','Susmita','Anvita']\n",
    "print(friends[4]) \n",
    "print(friends[0]) \n",
    "print(friends[1]) \n",
    "print(friends[3]) \n",
    "print(friends[2]) "
   ]
  },
  {
   "cell_type": "code",
   "execution_count": 17,
   "id": "12964de8",
   "metadata": {},
   "outputs": [
    {
     "name": "stdout",
     "output_type": "stream",
     "text": [
      "Hi Anu come over to my place for lunch, this sunday\n",
      "Hi Maria come over to my place for lunch, this sunday\n",
      "Hi Jay come over to my place for lunch, this sunday\n",
      "Hi Susmita come over to my place for lunch, this sunday\n",
      "Hi Anvita come over to my place for lunch, this sunday\n"
     ]
    }
   ],
   "source": [
    "friends=['Anu','Maria','Jay','Susmita','Anvita']\n",
    "for i in friends:\n",
    "    #print (i)\n",
    "    print(\"Hi {} come over to my place for lunch, this sunday\".format(i))"
   ]
  },
  {
   "cell_type": "code",
   "execution_count": 19,
   "id": "6ceb2d40",
   "metadata": {},
   "outputs": [
    {
     "name": "stdout",
     "output_type": "stream",
     "text": [
      "some lines on mode of transportation in our lives\n",
      "    \n",
      "['Bus', 'cycle', 'Bike', 'Car', 'Cruise', 'Flight']\n",
      "1. while in school, we always used cycle for fun\n",
      "2. during college days, our mode of travel was always a Bus\n",
      "3. After we start working, we take a Bike or Car to commute\n",
      "4. Years in career, we travel by Flight to save time\n",
      "5. for a holiday, i would like to take a Cruise with family / friends\n"
     ]
    }
   ],
   "source": [
    "#11.Think of your favourite mode of transportation, such as a motorcycle or a car, \n",
    "#and make a list that stores several examples.\n",
    "print(\"some lines on mode of transportation in our lives\")\n",
    "print(\"    \")\n",
    "trans_veh=[\"Bus\",\"cycle\", \"Bike\", \"Car\",\"Cruise\",\"Flight\"]\n",
    "print(trans_veh)\n",
    "\n",
    "\n",
    "print(\"1. while in school, we always used \" + trans_veh[1] + \" for fun\")\n",
    "print(\"2. during college days, our mode of travel was always a \" + trans_veh[0])\n",
    "print(\"3. After we start working, we take a \"+ trans_veh[2] + \" or \" + trans_veh[3] + \" to commute\")\n",
    "print(\"4. Years in career, we travel by \"+ trans_veh[5] + \" to save time\")\n",
    "print(\"5. for a holiday, i would like to take a \" + trans_veh[4] + \" with family / friends\")"
   ]
  }
 ],
 "metadata": {
  "kernelspec": {
   "display_name": "Python 3 (ipykernel)",
   "language": "python",
   "name": "python3"
  },
  "language_info": {
   "codemirror_mode": {
    "name": "ipython",
    "version": 3
   },
   "file_extension": ".py",
   "mimetype": "text/x-python",
   "name": "python",
   "nbconvert_exporter": "python",
   "pygments_lexer": "ipython3",
   "version": "3.9.12"
  }
 },
 "nbformat": 4,
 "nbformat_minor": 5
}
